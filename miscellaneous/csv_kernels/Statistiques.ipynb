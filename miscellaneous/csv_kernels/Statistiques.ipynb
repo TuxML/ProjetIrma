{
 "cells": [
  {
   "cell_type": "code",
   "execution_count": 1,
   "metadata": {},
   "outputs": [],
   "source": [
    "import MySQLdb\n",
    "import csv\n",
    "import os\n",
    "import subprocess\n",
    "import re\n",
    "import bz2\n",
    "import pandas as pd\n",
    "import matplotlib.pyplot as plt"
   ]
  },
  {
   "cell_type": "code",
   "execution_count": null,
   "metadata": {},
   "outputs": [],
   "source": []
  },
  {
   "cell_type": "code",
   "execution_count": 2,
   "metadata": {},
   "outputs": [],
   "source": [
    "def write_header():\n",
    "    head = [\"cid\",\"time\",\"compile\",\"vmlinux\",\"GZIP-bzImage\",\"GZIP-vmlinux\",\"GZIP\",\"BZIP2-bzImage\",\"BZIP2-vmlinux\",\"BZIP2\",\"LZMA-bzImage\",\"LZMA-vmlinux\",\"LZMA\",\"XZ-bzImage\",\"XZ-vmlinux\",\"XZ\",\"LZO-bzImage\",\"LZO-vmlinux\",\"LZO\",\"LZ4-bzImage\",\"LZ4-vmlinux\",\"LZ4\"]\n",
    "    with open(\"stats.csv\", 'w') as file:\n",
    "        writer = csv.DictWriter(file,head)\n",
    "        writer.writeheader()"
   ]
  },
  {
   "cell_type": "code",
   "execution_count": 3,
   "metadata": {},
   "outputs": [],
   "source": [
    "def kernel2csv(compressed):\n",
    "    if compressed is None:\n",
    "        return [str(-1)] * 18\n",
    "    \n",
    "    compressed = compressed.split(\" , \")\n",
    "    parse_array = [i.split(\" : \") for i in compressed]\n",
    "    final = [fin[1] for fin in parse_array]\n",
    "\n",
    "    return final"
   ]
  },
  {
   "cell_type": "code",
   "execution_count": 4,
   "metadata": {},
   "outputs": [],
   "source": [
    "## Virtual machine IP adress\n",
    "HOST            = \"148.60.11.195\"\n",
    "\n",
    "## MySQL user\n",
    "DB_USER         = \"script2\"\n",
    "\n",
    "## MySQL password\n",
    "DB_PASSWD       = \"ud6cw3xNRKnrOz6H\""
   ]
  },
  {
   "cell_type": "code",
   "execution_count": 5,
   "metadata": {},
   "outputs": [],
   "source": [
    "def convert_time(value):\n",
    "    unit = \"secondes\"\n",
    "    value = float(value)\n",
    "    if value >= 60.0 and unit == \"secondes\":\n",
    "        value = value/60.0\n",
    "        unit = \"minutes\"\n",
    "    \n",
    "    if value >= 60.0 and unit == \"minutes\":\n",
    "        value = value/60.0\n",
    "        unit = \"hours\"\n",
    "        \n",
    "    if value >= 24 and unit == \"hours\":\n",
    "        value = value / 24.0\n",
    "        unit = \"days\"\n",
    "\n",
    "    tmp = str(value).split(\".\")\n",
    "    value = tmp[0] + \".\" + tmp[1][:2]\n",
    "        \n",
    "    return value, unit"
   ]
  },
  {
   "cell_type": "code",
   "execution_count": 6,
   "metadata": {},
   "outputs": [],
   "source": [
    "def convert_size(value):\n",
    "    unit = \"o\"\n",
    "    value = float(value)\n",
    "    if value >= 1000.0 and unit == \"o\":\n",
    "        value = value / 1000.0\n",
    "        unit = \"ko\"\n",
    "    \n",
    "    if value >= 1000.0 and unit == \"ko\":\n",
    "        value = value / 1000.0\n",
    "        unit = \"Mo\"\n",
    "    \n",
    "    if value >= 1000.0 and unit == \"Mo\":\n",
    "        value = value / 1000.0\n",
    "        unit = \"Go\"\n",
    "        \n",
    "    tmp = str(value).split(\".\")\n",
    "    value = tmp[0] + \".\" + tmp[1][:3]\n",
    "    \n",
    "    return value, unit"
   ]
  },
  {
   "cell_type": "code",
   "execution_count": 7,
   "metadata": {},
   "outputs": [],
   "source": [
    "def succeed(entry):\n",
    "\n",
    "    for i in range(len(entry)-1):\n",
    "        if \"-1\" in str(entry[i]) or \"-2\" in str(entry[i]) or \"-3\" in str(entry[i]):\n",
    "            return [False]\n",
    "\n",
    "    return [True]"
   ]
  },
  {
   "cell_type": "code",
   "execution_count": 8,
   "metadata": {},
   "outputs": [],
   "source": [
    "def create_csv():\n",
    "    \n",
    "    # subprocess.run(\"rm config_bdd.csv\", shell=True)\n",
    "    # if not os.path.exists(\"config_bdd.csv\"):\n",
    "    #  write_header()  \n",
    "        \n",
    "    entry_unformatted = compute_rows()\n",
    "    entry = []\n",
    "    for i in range(len(entry_unformatted)):\n",
    "        compil = succeed(entry_unformatted[i])\n",
    "        compr = kernel2csv(entry_unformatted[i][3])\n",
    "        entry.append(list(entry_unformatted[i][0: 2]) + compil + [entry_unformatted[i][2]] + compr)\n",
    "    \n",
    "    with open(\"stats.csv\", 'a') as file:\n",
    "        writer = csv.writer(file)\n",
    "        for line in entry:\n",
    "            writer.writerow(line)\n",
    "    "
   ]
  },
  {
   "cell_type": "code",
   "execution_count": 9,
   "metadata": {},
   "outputs": [],
   "source": [
    "def compute_rows():\n",
    "    try:\n",
    "        socket = MySQLdb.connect(HOST, DB_USER, DB_PASSWD, \"IrmaDB_prod\")\n",
    "        cursor = socket.cursor()\n",
    "        \n",
    "        query = \"SELECT cid, compilation_time, core_size, compressed_sizes FROM Compilations WHERE cid >= 15000 ORDER BY cid DESC\"\n",
    "        cursor.execute(query)\n",
    "        entry = cursor.fetchall()\n",
    "    except:\n",
    "        print(\"Error\")\n",
    "    finally:\n",
    "        cursor.close()\n",
    "        socket.close()\n",
    "    \n",
    "    return entry"
   ]
  },
  {
   "cell_type": "code",
   "execution_count": 10,
   "metadata": {},
   "outputs": [],
   "source": [
    "def min_max():\n",
    "    \n",
    "    df = pd.read_csv('config_bdd.csv')\n",
    "    ok_or_not = True\n",
    "    \n",
    "    size_max = df[\"vmlinux\"].where(df[\"time\"] > -1).max()\n",
    "    size_min = df[\"vmlinux\"].where((df[\"time\"] > -1) & (df[\"vmlinux\"] > 0)).min()\n",
    "    tmp_size_average = df[\"vmlinux\"].where((df[\"time\"] > -1) & (df[\"vmlinux\"] > 0)).mean()\n",
    "    size_average = float(str(tmp_size_average).split('.')[0] + '.' + str(tmp_size_average).split('.')[1][:3])\n",
    "    \n",
    "    size_max, size_max_unit = convert_size(size_max)\n",
    "    size_min, size_min_unit = convert_size(size_min)\n",
    "    size_average, size_average_unit = convert_size(size_average)\n",
    "    \n",
    "    time_max = df[\"time\"].where(df[\"time\"] > -1).max()\n",
    "    time_min = df[\"time\"].where((df[\"time\"] > -1) & (df[\"time\"] > 0)).min()\n",
    "    tmp_time_average = df[\"time\"].where((df[\"time\"] > -1) & (df[\"time\"] > 0)).mean()\n",
    "    \n",
    "    time_average = float(str(tmp_time_average).split('.')[0] + '.' + str(tmp_time_average).split('.')[1][:3])\n",
    "    \n",
    "    time_max, time_max_unit = convert_time(time_max)\n",
    "    time_min, time_min_unit = convert_time(time_min)\n",
    "    time_average, time_average_unit = convert_time(time_average)\n",
    "    \n",
    "    print(\"Number of values:\", len(df))\n",
    "    \n",
    "    print(\"Time Max:\", time_max, time_max_unit, end=\"\")\n",
    "    print(\", Min:\", time_min, time_min_unit, end=\"\")\n",
    "    print(\"\\taverage:\", time_average, time_average_unit)\n",
    "    \n",
    "    print(\"Size Max:\", size_max, size_max_unit, end=\"\")\n",
    "    print(\", Min:\", size_min, size_min_unit, end=\"\")\n",
    "    print(\"\\t\\taverage:\", size_average, size_average_unit)\n",
    "    \n",
    "    box = df[\"vmlinux\"].where(df[\"vmlinux\"] > 10).plot.box(sym='', showmeans=True)\n",
    "    plt.ylabel(\"vmlinux size\")\n",
    "    plt.show()\n",
    "    \n",
    "    box = df[\"time\"].where(df[\"time\"] > 10).plot.box(sym='', showmeans=True)\n",
    "    plt.ylabel(\"Time\")\n",
    "    plt.show()"
   ]
  },
  {
   "cell_type": "code",
   "execution_count": 11,
   "metadata": {},
   "outputs": [],
   "source": [
    "create_csv()"
   ]
  },
  {
   "cell_type": "code",
   "execution_count": 12,
   "metadata": {},
   "outputs": [
    {
     "name": "stderr",
     "output_type": "stream",
     "text": [
      "/home/alemasle/anaconda3/lib/python3.6/site-packages/IPython/core/interactiveshell.py:2909: DtypeWarning: Columns (11858,12340,12341,12378,12384) have mixed types. Specify dtype option on import or set low_memory=False.\n",
      "  if self.run_code(code, result):\n"
     ]
    },
    {
     "name": "stdout",
     "output_type": "stream",
     "text": [
      "Number of values: 2001\n",
      "Time Max: 33.82 minutes, Min: 3.17 secondes\taverage: 6.11 minutes\n",
      "Size Max: 1.172 Go, Min: 1.168 Mo\t\taverage: 72.504 Mo\n"
     ]
    },
    {
     "data": {
      "image/png": "[encoded data removed]",
      "text/plain": [
       "<Figure size 432x288 with 1 Axes>"
      ]
     },
     "metadata": {},
     "output_type": "display_data"
    },
    {
     "data": {
      "image/png": "[encoded data removed]",
      "text/plain": [
       "<Figure size 432x288 with 1 Axes>"
      ]
     },
     "metadata": {},
     "output_type": "display_data"
    }
   ],
   "source": [
    "min_max()"
   ]
  },
  {
   "cell_type": "code",
   "execution_count": null,
   "metadata": {},
   "outputs": [],
   "source": []
  }
 ],
 "metadata": {
  "kernelspec": {
   "display_name": "Python 3",
   "language": "python",
   "name": "python3"
  },
  "language_info": {
   "codemirror_mode": {
    "name": "ipython",
    "version": 3
   },
   "file_extension": ".py",
   "mimetype": "text/x-python",
   "name": "python",
   "nbconvert_exporter": "python",
   "pygments_lexer": "ipython3",
   "version": "3.6.5"
  }
 },
 "nbformat": 4,
 "nbformat_minor": 2
}

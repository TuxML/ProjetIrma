{
 "cells": [
  {
   "cell_type": "code",
   "execution_count": 1,
   "metadata": {},
   "outputs": [],
   "source": [
    "import pandas as pd\n",
    "import scipy.stats"
   ]
  },
  {
   "cell_type": "code",
   "execution_count": null,
   "metadata": {},
   "outputs": [],
   "source": []
  },
  {
   "cell_type": "code",
   "execution_count": 2,
   "metadata": {
    "scrolled": true
   },
   "outputs": [],
   "source": [
    "df = pd.read_csv('kernels_compare.csv')\n",
    "# df\n",
    "# GZIP, BZIP2, LZMA ... All column with just the name of the compression are the \"vmlinux.bin.xx\" files\n",
    "# where 'xx' is the compression"
   ]
  },
  {
   "cell_type": "code",
   "execution_count": 3,
   "metadata": {},
   "outputs": [],
   "source": [
    "compression = [\"GZIP\",\"BZIP2\",\"LZMA\",\"XZ\",\"LZO\",\"LZ4\"]\n",
    "diff = {}"
   ]
  },
  {
   "cell_type": "code",
   "execution_count": 4,
   "metadata": {
    "scrolled": false
   },
   "outputs": [],
   "source": [
    "vmlin = {}\n",
    "vmlin[\"vmlinux\"] = df['vmlinux'] - df['basic-vmlinux']\n",
    "\n",
    "diff[\"vmlinux\"] = vmlin\n",
    "#print(\"diff: \" + str(diff))"
   ]
  },
  {
   "cell_type": "code",
   "execution_count": 5,
   "metadata": {
    "scrolled": true
   },
   "outputs": [],
   "source": [
    "bzDic = {}\n",
    "for c in compression:\n",
    "    bzDic[c] = df[c + '-bzImage'] - df['basic-' + c + '-bzImage']\n",
    "#print(\"bzImage dic :\\n\" + str(bzDic))\n",
    "\n",
    "diff[\"bzImage\"] = bzDic\n",
    "#print(\"diff: \" + str(diff))"
   ]
  },
  {
   "cell_type": "code",
   "execution_count": 6,
   "metadata": {},
   "outputs": [],
   "source": [
    "vmDic = {}\n",
    "for c in compression:\n",
    "    vmDic[c] = df[c + '-vmlinux'] - df['basic-' + c + '-vmlinux']\n",
    "#print(\"vmlinux dic : \" + str(vmDic))\n",
    "\n",
    "diff[\"compressed-vmlinux\"] = vmDic\n",
    "#print(\"diff: \" + str(diff))"
   ]
  },
  {
   "cell_type": "code",
   "execution_count": 7,
   "metadata": {},
   "outputs": [],
   "source": [
    "compress = {}\n",
    "for c in compression:\n",
    "    compress[c] = df[c] - df['basic-' + c]\n",
    "#print(\"compress dic : \" + str(compress))\n",
    "\n",
    "diff[\"vmlinux.bin\"] = compress\n",
    "average = {}"
   ]
  },
  {
   "cell_type": "code",
   "execution_count": 8,
   "metadata": {},
   "outputs": [],
   "source": [
    "for k in diff:\n",
    "    tmp = 0\n",
    "    size = -1\n",
    "    for keys,value in diff[k].items():\n",
    "        if size == -1:\n",
    "            size = len(diff[k][keys].keys())\n",
    "        tmp += value\n",
    "    tmp = tmp / size\n",
    "    average[k] = tmp"
   ]
  },
  {
   "cell_type": "code",
   "execution_count": 9,
   "metadata": {
    "scrolled": true
   },
   "outputs": [],
   "source": [
    "#print(\"diff : \\n\" + str(diff))\n",
    "#print(\"\\n\")\n",
    "#print(\"average : \\n\" + str(average))"
   ]
  },
  {
   "cell_type": "code",
   "execution_count": 10,
   "metadata": {
    "scrolled": false
   },
   "outputs": [
    {
     "name": "stdout",
     "output_type": "stream",
     "text": [
      "vmlinux has an average difference of : 170.4640443213297 in Bytes\n",
      "bzImage has an average difference of : 198.64465373961224 in Bytes\n",
      "compressed-vmlinux has an average difference of : 169.60000000000005 in Bytes\n",
      "vmlinux.bin has an average difference of : 197.59687673130202 in Bytes\n"
     ]
    }
   ],
   "source": [
    "average_size = \"\"\n",
    "for k,v in average.items():\n",
    "    tmp = 0\n",
    "    for i in v:\n",
    "        tmp += i\n",
    "    tmp = tmp/len(v)\n",
    "    average_size += k + \" has an average difference of : \" + str(abs(tmp)) + ' in Bytes\\n'\n",
    "print(average_size[:-1])"
   ]
  },
  {
   "cell_type": "code",
   "execution_count": null,
   "metadata": {
    "scrolled": true
   },
   "outputs": [],
   "source": []
  },
  {
   "cell_type": "code",
   "execution_count": 11,
   "metadata": {
    "scrolled": false
   },
   "outputs": [
    {
     "name": "stdout",
     "output_type": "stream",
     "text": [
      "Pearson coefficients with vmlinux :\n",
      "vmlinux : 1.0\n",
      "GZIP-bzImage : 0.48400491837591564\n",
      "GZIP-vmlinux : 0.48404572799316603\n",
      "GZIP : 0.482875346993598\n",
      "BZIP2-bzImage : 0.49967851166753247\n",
      "BZIP2-vmlinux : 0.49971726988682047\n",
      "BZIP2 : 0.49862900120202075\n",
      "LZMA-bzImage : 0.4664731435957831\n",
      "LZMA-vmlinux : 0.46652931850264057\n",
      "LZMA : 0.4648784873583179\n",
      "XZ-bzImage : 0.4734797011315296\n",
      "XZ-vmlinux : 0.4735390188317557\n",
      "XZ : 0.4718316320616847\n",
      "LZO-bzImage : 0.503037468274347\n",
      "LZO-vmlinux : 0.5030700172774196\n",
      "LZO : 0.5021717681509831\n",
      "LZ4-bzImage : 0.5097569930302686\n",
      "LZ4-vmlinux : 0.5097854587645533\n",
      "LZ4 : 0.5089952270563722\n",
      "basic-vmlinux : 0.9998939514793261\n",
      "basic-GZIP-bzImage : 0.48376560340300295\n",
      "basic-GZIP-vmlinux : 0.48380627146686994\n",
      "basic-GZIP : 0.4826515347184501\n",
      "basic-BZIP2-bzImage : 0.49944826300581624\n",
      "basic-BZIP2-vmlinux : 0.5007342055156435\n",
      "basic-BZIP2 : 0.4983986490170822\n",
      "basic-LZMA-bzImage : 0.46629338968530004\n",
      "basic-LZMA-vmlinux : 0.46634935280584683\n",
      "basic-LZMA : 0.46469887614656263\n",
      "basic-XZ-bzImage : 0.4731402549997821\n",
      "basic-XZ-vmlinux : 0.47319937910356075\n",
      "basic-XZ : 0.47148999022840127\n",
      "basic-LZO-bzImage : 0.5027780194273116\n",
      "basic-LZO-vmlinux : 0.5028104500032079\n",
      "basic-LZO : 0.5019155232699652\n",
      "basic-LZ4-bzImage : 0.5094977663791539\n",
      "basic-LZ4-vmlinux : 0.5095261298582914\n",
      "basic-LZ4 : 0.5087400856386091\n",
      "\n",
      "\n",
      "Spearman coefficients with vmlinux :\n",
      "vmlinux : 1.0\n",
      "GZIP-bzImage : 0.7300492451396896\n",
      "GZIP-vmlinux : 0.7301753507742683\n",
      "GZIP : 0.7283410987319128\n",
      "BZIP2-bzImage : 0.7410029973971416\n",
      "BZIP2-vmlinux : 0.7411029520026011\n",
      "BZIP2 : 0.739655362826904\n",
      "LZMA-bzImage : 0.7178900214903574\n",
      "LZMA-vmlinux : 0.7179541375933605\n",
      "LZMA : 0.7153415918830172\n",
      "XZ-bzImage : 0.7104217002375655\n",
      "XZ-vmlinux : 0.7105755748069754\n",
      "XZ : 0.7073328616869705\n",
      "LZO-bzImage : 0.7442913087493191\n",
      "LZO-vmlinux : 0.7444587736521403\n",
      "LZO : 0.7426634752172436\n",
      "LZ4-bzImage : 0.7502279047232008\n",
      "LZ4-vmlinux : 0.7502682261471356\n",
      "LZ4 : 0.749089748033683\n",
      "basic-vmlinux : 0.999946912444736\n",
      "basic-GZIP-bzImage : 0.7310630040142065\n",
      "basic-GZIP-vmlinux : 0.7311886028040909\n",
      "basic-GZIP : 0.7292622705104546\n",
      "basic-BZIP2-bzImage : 0.7417877060458049\n",
      "basic-BZIP2-vmlinux : 0.7420358530812021\n",
      "basic-BZIP2 : 0.7404695946904584\n",
      "basic-LZMA-bzImage : 0.7188892352733227\n",
      "basic-LZMA-vmlinux : 0.718905855892491\n",
      "basic-LZMA : 0.7163132808716037\n",
      "basic-XZ-bzImage : 0.7110177075798274\n",
      "basic-XZ-vmlinux : 0.7111507284423109\n",
      "basic-XZ : 0.7080429942496511\n",
      "basic-LZO-bzImage : 0.7451614857348765\n",
      "basic-LZO-vmlinux : 0.7452659392011592\n",
      "basic-LZO : 0.7435295373198144\n",
      "basic-LZ4-bzImage : 0.7509635584217067\n",
      "basic-LZ4-vmlinux : 0.7509875462910469\n",
      "basic-LZ4 : 0.749791353879731\n"
     ]
    }
   ],
   "source": [
    "x_str = df['vmlinux'].to_string(index=False).replace(\" \",\"\").split(\"\\n\")\n",
    "\n",
    "X = [float(i) for i in x_str]\n",
    "\n",
    "pearson = []\n",
    "spearman = []\n",
    "\n",
    "for column in df:\n",
    "\n",
    "    y_str = df[column].to_string(index=False).replace(\" \", \"\").split(\"\\n\")\n",
    "\n",
    "    Y = [float(a) for a in y_str]\n",
    "\n",
    "    pearson.append(column + \" : \" + str(scipy.stats.pearsonr(X,Y)[0]))\n",
    "    spearman.append(column + \" : \" + str(scipy.stats.spearmanr(X,Y).correlation))\n",
    "    \n",
    "print(\"Pearson coefficients with vmlinux :\\n\" + \"\\n\".join(pearson))\n",
    "print(\"\\n\")\n",
    "print(\"Spearman coefficients with vmlinux :\\n\" + \"\\n\".join(spearman))"
   ]
  },
  {
   "cell_type": "code",
   "execution_count": null,
   "metadata": {},
   "outputs": [],
   "source": []
  }
 ],
 "metadata": {
  "kernelspec": {
   "display_name": "Python 3",
   "language": "python",
   "name": "python3"
  },
  "language_info": {
   "codemirror_mode": {
    "name": "ipython",
    "version": 3
   },
   "file_extension": ".py",
   "mimetype": "text/x-python",
   "name": "python",
   "nbconvert_exporter": "python",
   "pygments_lexer": "ipython3",
   "version": "3.6.5"
  }
 },
 "nbformat": 4,
 "nbformat_minor": 2
}
